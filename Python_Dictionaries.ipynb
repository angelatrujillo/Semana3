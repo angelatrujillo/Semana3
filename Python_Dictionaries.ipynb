{
 "cells": [
  {
   "cell_type": "markdown",
   "metadata": {
    "id": "Bb5P9oBJtWgi"
   },
   "source": [
    "<img src=\"https://i.imgur.com/6U6q5jQ.png\"/>\n",
    "\n",
    "\n",
    "<a target=\"_blank\" href=\"https://colab.research.google.com/github/PythonVersusR/basicDataStructures_dictionaries/blob/main/Python_Dictionaries.ipynb\">\n",
    "  <img src=\"https://colab.research.google.com/assets/colab-badge.svg\" alt=\"Open In Colab\"/>\n",
    "</a>\n",
    "\n",
    "\n",
    "# Dictionaries in Python"
   ]
  },
  {
   "cell_type": "markdown",
   "metadata": {
    "id": "ix7xtYzM7GsE"
   },
   "source": [
    "## 1. Creating"
   ]
  },
  {
   "cell_type": "code",
   "execution_count": null,
   "metadata": {
    "id": "2ffBcMUO4W6D"
   },
   "outputs": [],
   "source": [
    "aDictExample={\"name\":\"Peter\",\n",
    "             \"speaks\":['French', 'Spanish'],\n",
    "             'country':'Morocco'}\n",
    "\n",
    "# then\n",
    "aDictExample"
   ]
  },
  {
   "cell_type": "markdown",
   "metadata": {
    "id": "XW-l5zTaAonr"
   },
   "source": [
    "## 2. Accessing"
   ]
  },
  {
   "cell_type": "markdown",
   "metadata": {
    "id": "9WfrgZlD4bMn"
   },
   "source": [
    "Each dictionary element in Python can be accessed via **keys** _NOT indexes_ (so no slices). Our _aDictExample_ has these keys:"
   ]
  },
  {
   "cell_type": "code",
   "execution_count": null,
   "metadata": {
    "id": "KQrycQe_4hd2"
   },
   "outputs": [],
   "source": [
    "aDictExample.keys()"
   ]
  },
  {
   "cell_type": "code",
   "execution_count": null,
   "metadata": {
    "id": "vY3DDSJs4mU2"
   },
   "outputs": [],
   "source": [
    "#then\n",
    "aDictExample['speaks']"
   ]
  },
  {
   "cell_type": "code",
   "execution_count": null,
   "metadata": {
    "id": "7gMsv-JwA-q7"
   },
   "outputs": [],
   "source": [
    "# Here the index is for the list:\n",
    "aDictExample['speaks'][0]"
   ]
  },
  {
   "cell_type": "markdown",
   "metadata": {
    "id": "lvVhUDHpBzhM"
   },
   "source": [
    "## 2. Replacing"
   ]
  },
  {
   "cell_type": "code",
   "execution_count": null,
   "metadata": {
    "id": "a8_TaUeaB-KL"
   },
   "outputs": [],
   "source": [
    "aDictExample['country']='Tunisia'\n",
    "aDictExample"
   ]
  },
  {
   "cell_type": "markdown",
   "metadata": {
    "id": "7zjqtGb8Ck6G"
   },
   "source": [
    "## 3. Deleting"
   ]
  },
  {
   "cell_type": "code",
   "execution_count": null,
   "metadata": {
    "id": "pzM8G-04Cnks"
   },
   "outputs": [],
   "source": [
    "del aDictExample['country']\n",
    "\n",
    "aDictExample"
   ]
  },
  {
   "cell_type": "markdown",
   "metadata": {
    "id": "mTu2P49QDMw5"
   },
   "source": [
    "Becareful when using **pop()**:"
   ]
  },
  {
   "cell_type": "code",
   "execution_count": null,
   "metadata": {
    "id": "T_LNjBCzDDXo"
   },
   "outputs": [],
   "source": [
    "aDictExample.pop('name')"
   ]
  },
  {
   "cell_type": "code",
   "execution_count": null,
   "metadata": {
    "id": "d4fzlLxNDJU8"
   },
   "outputs": [],
   "source": [
    "#now\n",
    "aDictExample"
   ]
  },
  {
   "cell_type": "markdown",
   "metadata": {
    "id": "qe2UiZIsDWuE"
   },
   "source": [
    "## 4. Inserting"
   ]
  },
  {
   "cell_type": "markdown",
   "metadata": {
    "id": "JmQlPCjGDuF9"
   },
   "source": [
    "Let's create a dict from some lists:"
   ]
  },
  {
   "cell_type": "code",
   "execution_count": null,
   "metadata": {
    "id": "dUxYQK6F5lks"
   },
   "outputs": [],
   "source": [
    "namesP=[\"Qing\", \"Françoise\", \"Raúl\", \"Bjork\",\"Marie\"]\n",
    "agesP=[32,33,28,30,29]\n",
    "countryP=[\"China\", \"Senegal\", \"España\", \"Norway\",\"Korea\"]\n",
    "educationP=[\"Bach\", \"Bach\", \"Master\", \"PhD\",\"PhD\"]"
   ]
  },
  {
   "cell_type": "code",
   "execution_count": null,
   "metadata": {
    "id": "dYdelN2ItWhv"
   },
   "outputs": [],
   "source": [
    "#notice alternative way of creating\n",
    "classroom=dict(student=namesP,age=agesP,edu=educationP)\n",
    "# see it:\n",
    "\n",
    "classroom"
   ]
  },
  {
   "cell_type": "markdown",
   "metadata": {
    "id": "J2p1UJTatWh8"
   },
   "source": [
    "There is no _append_ to add an element, you need **update**:"
   ]
  },
  {
   "cell_type": "code",
   "execution_count": null,
   "metadata": {
    "id": "9P2SbDimtWh9"
   },
   "outputs": [],
   "source": [
    "classroom.update({'country':countryP})\n",
    "# now:\n",
    "classroom"
   ]
  }
 ],
 "metadata": {
  "anaconda-cloud": {
   "attach-environment": true,
   "summary": "test"
  },
  "colab": {
   "provenance": [],
   "toc_visible": true
  },
  "hide_input": false,
  "kernelspec": {
   "display_name": "Python 3 (ipykernel)",
   "language": "python",
   "name": "python3"
  },
  "language_info": {
   "codemirror_mode": {
    "name": "ipython",
    "version": 3
   },
   "file_extension": ".py",
   "mimetype": "text/x-python",
   "name": "python",
   "nbconvert_exporter": "python",
   "pygments_lexer": "ipython3",
   "version": "3.12.0"
  }
 },
 "nbformat": 4,
 "nbformat_minor": 4
}
